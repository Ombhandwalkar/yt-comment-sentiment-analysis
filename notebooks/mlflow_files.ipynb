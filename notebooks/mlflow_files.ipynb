{
 "cells": [
  {
   "cell_type": "code",
   "execution_count": null,
   "metadata": {},
   "outputs": [],
   "source": [
    "import pandas as pd \n",
    "from IPython.display import display, Markdown\n",
    "\n",
    "# Load MLflow experiment data\n",
    "df = pd.read_csv(\"mlflow_experiment.csv\")\n",
    "\n",
    "# Convert DataFrame to Markdown\n",
    "markdown_text = df.head(20).to_markdown(index=False)\n",
    "\n",
    "# Display the Markdown table\n",
    "display(Markdown(f\"### MLflow Experiment Report\\n\\n{markdown_text}\"))\n"
   ]
  },
  {
   "cell_type": "code",
   "execution_count": 3,
   "metadata": {},
   "outputs": [
    {
     "ename": "ModuleNotFoundError",
     "evalue": "No module named 'reportlab'",
     "output_type": "error",
     "traceback": [
      "\u001b[31m---------------------------------------------------------------------------\u001b[39m",
      "\u001b[31mModuleNotFoundError\u001b[39m                       Traceback (most recent call last)",
      "\u001b[36mCell\u001b[39m\u001b[36m \u001b[39m\u001b[32mIn[3]\u001b[39m\u001b[32m, line 1\u001b[39m\n\u001b[32m----> \u001b[39m\u001b[32m1\u001b[39m \u001b[38;5;28;01mfrom\u001b[39;00m\u001b[38;5;250m \u001b[39m\u001b[34;01mreportlab\u001b[39;00m\u001b[34;01m.\u001b[39;00m\u001b[34;01mlib\u001b[39;00m\u001b[34;01m.\u001b[39;00m\u001b[34;01mpagesizes\u001b[39;00m\u001b[38;5;250m \u001b[39m\u001b[38;5;28;01mimport\u001b[39;00m letter\n\u001b[32m      2\u001b[39m \u001b[38;5;28;01mfrom\u001b[39;00m\u001b[38;5;250m \u001b[39m\u001b[34;01mreportlab\u001b[39;00m\u001b[34;01m.\u001b[39;00m\u001b[34;01mpdfgen\u001b[39;00m\u001b[38;5;250m \u001b[39m\u001b[38;5;28;01mimport\u001b[39;00m canvas\n\u001b[32m      3\u001b[39m \u001b[38;5;28;01mimport\u001b[39;00m\u001b[38;5;250m \u001b[39m\u001b[34;01mpandas\u001b[39;00m\u001b[38;5;250m \u001b[39m\u001b[38;5;28;01mas\u001b[39;00m\u001b[38;5;250m \u001b[39m\u001b[34;01mpd\u001b[39;00m\n",
      "\u001b[31mModuleNotFoundError\u001b[39m: No module named 'reportlab'"
     ]
    }
   ],
   "source": [
    "from reportlab.lib.pagesizes import letter\n",
    "from reportlab.pdfgen import canvas\n",
    "import pandas as pd\n",
    "\n",
    "# Load experiment data\n",
    "df = pd.read_csv(\"mlflow_experiment.csv\")\n",
    "\n",
    "# Create a PDF file\n",
    "pdf_file = \"mlflow_experiment.pdf\"\n",
    "c = canvas.Canvas(pdf_file, pagesize=letter)\n",
    "\n",
    "# Set title\n",
    "c.setFont(\"Helvetica-Bold\", 14)\n",
    "c.drawString(100, 750, \"MLflow Experiment Report\")\n",
    "\n",
    "# Write experiment data (first few rows)\n",
    "c.setFont(\"Helvetica\", 10)\n",
    "y = 730\n",
    "for i, row in df.head(20).iterrows():  # Limiting rows for visibility\n",
    "    text = f\"{row.to_dict()}\"  # Convert row to text\n",
    "    c.drawString(50, y, text[:100])  # Truncate long lines\n",
    "    y -= 20\n",
    "    if y < 50:  # Prevent overflow\n",
    "        c.showPage()\n",
    "        y = 750\n",
    "\n",
    "c.save()\n",
    "print(\"PDF saved as\", pdf_file)\n"
   ]
  },
  {
   "cell_type": "code",
   "execution_count": null,
   "metadata": {},
   "outputs": [],
   "source": []
  }
 ],
 "metadata": {
  "kernelspec": {
   "display_name": "myenv",
   "language": "python",
   "name": "python3"
  },
  "language_info": {
   "codemirror_mode": {
    "name": "ipython",
    "version": 3
   },
   "file_extension": ".py",
   "mimetype": "text/x-python",
   "name": "python",
   "nbconvert_exporter": "python",
   "pygments_lexer": "ipython3",
   "version": "3.11.5"
  }
 },
 "nbformat": 4,
 "nbformat_minor": 2
}
