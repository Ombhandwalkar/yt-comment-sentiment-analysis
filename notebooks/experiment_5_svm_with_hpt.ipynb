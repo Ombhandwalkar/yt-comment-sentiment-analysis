{
  "cells": [
    {
      "cell_type": "code",
      "execution_count": null,
      "metadata": {
        "id": "nFUY2jd91iDB"
      },
      "outputs": [],
      "source": []
    },
    {
      "cell_type": "code",
      "execution_count": null,
      "metadata": {
        "colab": {
          "base_uri": "https://localhost:8080/"
        },
        "id": "6_mAZGKcDN6v",
        "outputId": "93fe606f-281d-4e93-9197-3316ac18c4cb"
      },
      "outputs": [],
      "source": [
        "!pip install mlflow boto3 awscli optuna imbalanced-learn"
      ]
    },
    {
      "cell_type": "code",
      "execution_count": null,
      "metadata": {
        "colab": {
          "base_uri": "https://localhost:8080/"
        },
        "id": "LD8Gi6HfC8ME",
        "outputId": "8c538e71-e263-4176-fb94-617b9982110a"
      },
      "outputs": [],
      "source": [
        "!aws configure"
      ]
    },
    {
      "cell_type": "code",
      "execution_count": 3,
      "metadata": {
        "id": "35G_7mELFVEG"
      },
      "outputs": [],
      "source": [
        "import mlflow\n",
        "# Step 2: Set up the MLflow tracking server\n",
        "mlflow.set_tracking_uri(\"http://ec2-100-26-36-125.compute-1.amazonaws.com:5000/\")"
      ]
    },
    {
      "cell_type": "code",
      "execution_count": 4,
      "metadata": {
        "colab": {
          "base_uri": "https://localhost:8080/"
        },
        "id": "Bu9PwY1EFz4h",
        "outputId": "0d02788b-7349-4ec4-f925-25494a9408a5"
      },
      "outputs": [
        {
          "data": {
            "text/plain": [
              "<Experiment: artifact_location='s3://om-mlflow-bucket/622937322449081937', creation_time=1741368134336, experiment_id='622937322449081937', last_update_time=1741368134336, lifecycle_stage='active', name='E ML Algos with HP Tuning', tags={}>"
            ]
          },
          "execution_count": 4,
          "metadata": {},
          "output_type": "execute_result"
        }
      ],
      "source": [
        "# Set or create an experiment\n",
        "mlflow.set_experiment(\"E ML Algos with HP Tuning\")"
      ]
    },
    {
      "cell_type": "code",
      "execution_count": 5,
      "metadata": {
        "id": "rwduiDRuF39V"
      },
      "outputs": [],
      "source": [
        "import pandas as pd\n",
        "from sklearn.feature_extraction.text import TfidfVectorizer\n",
        "from sklearn.model_selection import train_test_split\n",
        "from sklearn.metrics import accuracy_score, classification_report\n",
        "from sklearn.svm import SVC\n",
        "from imblearn.over_sampling import SMOTE\n",
        "import mlflow\n",
        "import mlflow.sklearn\n",
        "import optuna"
      ]
    },
    {
      "cell_type": "code",
      "execution_count": 6,
      "metadata": {
        "id": "BtyvooZ_F6EZ"
      },
      "outputs": [],
      "source": [
        "df=pd.read_csv('/content/reddit_processed.csv').dropna()"
      ]
    },
    {
      "cell_type": "code",
      "execution_count": 7,
      "metadata": {
        "colab": {
          "base_uri": "https://localhost:8080/"
        },
        "id": "pjji72lkF9Sj",
        "outputId": "9c7fbdc3-7237-4fe1-db85-2b1365b5838e"
      },
      "outputs": [
        {
          "name": "stderr",
          "output_type": "stream",
          "text": [
            "[I 2025-03-08 03:03:44,487] A new study created in memory with name: no-name-41d0fe72-8688-4dff-8a88-c5a88e76dfc1\n",
            "[I 2025-03-08 03:07:52,223] Trial 0 finished with value: 0.5829810445929361 and parameters: {'C': 0.21343606340414642, 'kernel': 'poly'}. Best is trial 0 with value: 0.5829810445929361.\n",
            "[I 2025-03-08 03:12:07,163] Trial 1 finished with value: 0.4346106641210964 and parameters: {'C': 0.0002342008363965265, 'kernel': 'poly'}. Best is trial 0 with value: 0.5829810445929361.\n",
            "[I 2025-03-08 03:16:18,510] Trial 2 finished with value: 0.46215737078958136 and parameters: {'C': 0.03973679655252465, 'kernel': 'poly'}. Best is trial 0 with value: 0.5829810445929361.\n",
            "[I 2025-03-08 03:20:27,422] Trial 3 finished with value: 0.4391108686758489 and parameters: {'C': 0.021734420981006763, 'kernel': 'poly'}. Best is trial 0 with value: 0.5829810445929361.\n",
            "[I 2025-03-08 03:23:36,167] Trial 4 finished with value: 0.8126278467203054 and parameters: {'C': 0.28220776932505176, 'kernel': 'linear'}. Best is trial 4 with value: 0.8126278467203054.\n",
            "[I 2025-03-08 03:28:54,803] Trial 5 finished with value: 0.7560343651984182 and parameters: {'C': 0.47772013495829835, 'kernel': 'rbf'}. Best is trial 4 with value: 0.8126278467203054.\n",
            "[I 2025-03-08 03:33:12,236] Trial 6 finished with value: 0.4346106641210964 and parameters: {'C': 0.00523326271229922, 'kernel': 'poly'}. Best is trial 4 with value: 0.8126278467203054.\n",
            "[I 2025-03-08 03:38:16,923] Trial 7 finished with value: 0.42901950088640395 and parameters: {'C': 0.0006471172502435903, 'kernel': 'rbf'}. Best is trial 4 with value: 0.8126278467203054.\n",
            "[I 2025-03-08 03:43:00,641] Trial 8 finished with value: 0.42901950088640395 and parameters: {'C': 0.0002863994485746354, 'kernel': 'rbf'}. Best is trial 4 with value: 0.8126278467203054.\n",
            "[I 2025-03-08 03:47:08,586] Trial 9 finished with value: 0.5816173462430111 and parameters: {'C': 0.2099611913235741, 'kernel': 'poly'}. Best is trial 4 with value: 0.8126278467203054.\n",
            "[I 2025-03-08 03:53:30,677] Trial 10 finished with value: 0.8244920223646529 and parameters: {'C': 7.6915899747340655, 'kernel': 'linear'}. Best is trial 10 with value: 0.8244920223646529.\n",
            "[I 2025-03-08 03:58:55,814] Trial 11 finished with value: 0.8457657166234829 and parameters: {'C': 2.354740323766941, 'kernel': 'linear'}. Best is trial 11 with value: 0.8457657166234829.\n",
            "[I 2025-03-08 04:05:43,306] Trial 12 finished with value: 0.8221737351697804 and parameters: {'C': 8.465174449350524, 'kernel': 'linear'}. Best is trial 11 with value: 0.8457657166234829.\n",
            "[I 2025-03-08 04:13:12,372] Trial 13 finished with value: 0.8243556525296605 and parameters: {'C': 7.560989154166723, 'kernel': 'linear'}. Best is trial 11 with value: 0.8457657166234829.\n",
            "[I 2025-03-08 04:19:06,504] Trial 14 finished with value: 0.8456293467884903 and parameters: {'C': 2.4466207811451177, 'kernel': 'linear'}. Best is trial 11 with value: 0.8457657166234829.\n",
            "[I 2025-03-08 04:24:10,832] Trial 15 finished with value: 0.8445383881085504 and parameters: {'C': 1.337813986478224, 'kernel': 'linear'}. Best is trial 11 with value: 0.8457657166234829.\n",
            "[I 2025-03-08 04:29:33,856] Trial 16 finished with value: 0.8472657848084004 and parameters: {'C': 1.653097826880346, 'kernel': 'linear'}. Best is trial 16 with value: 0.8472657848084004.\n",
            "[I 2025-03-08 04:34:58,510] Trial 17 finished with value: 0.8467203054684304 and parameters: {'C': 1.907156665657327, 'kernel': 'linear'}. Best is trial 16 with value: 0.8472657848084004.\n",
            "[I 2025-03-08 04:39:10,139] Trial 18 finished with value: 0.7162143733806082 and parameters: {'C': 0.058433016788938925, 'kernel': 'linear'}. Best is trial 16 with value: 0.8472657848084004.\n",
            "[I 2025-03-08 04:43:35,573] Trial 19 finished with value: 0.8420837310786854 and parameters: {'C': 0.8148530067669041, 'kernel': 'linear'}. Best is trial 16 with value: 0.8472657848084004.\n",
            "[I 2025-03-08 04:48:22,347] Trial 20 finished with value: 0.5402972862402836 and parameters: {'C': 0.008742828217780677, 'kernel': 'linear'}. Best is trial 16 with value: 0.8472657848084004.\n",
            "[I 2025-03-08 04:54:20,885] Trial 21 finished with value: 0.8452202372835129 and parameters: {'C': 2.5825403947597976, 'kernel': 'linear'}. Best is trial 16 with value: 0.8472657848084004.\n",
            "[I 2025-03-08 04:59:47,928] Trial 22 finished with value: 0.8461748261284604 and parameters: {'C': 1.9387433221770505, 'kernel': 'linear'}. Best is trial 16 with value: 0.8472657848084004.\n",
            "[I 2025-03-08 05:03:24,641] Trial 23 finished with value: 0.7584890222282831 and parameters: {'C': 0.10166656804612292, 'kernel': 'linear'}. Best is trial 16 with value: 0.8472657848084004.\n",
            "[I 2025-03-08 05:07:40,871] Trial 24 finished with value: 0.8424928405836629 and parameters: {'C': 0.8643945540084431, 'kernel': 'linear'}. Best is trial 16 with value: 0.8472657848084004.\n",
            "[I 2025-03-08 05:16:45,177] Trial 25 finished with value: 0.8296740760943679 and parameters: {'C': 3.3206213732236085, 'kernel': 'rbf'}. Best is trial 16 with value: 0.8472657848084004.\n",
            "[I 2025-03-08 05:20:50,641] Trial 26 finished with value: 0.8415382517387154 and parameters: {'C': 0.8075545232003182, 'kernel': 'linear'}. Best is trial 16 with value: 0.8472657848084004.\n",
            "[I 2025-03-08 05:24:01,646] Trial 27 finished with value: 0.8251738715396154 and parameters: {'C': 0.3749296605151356, 'kernel': 'linear'}. Best is trial 16 with value: 0.8472657848084004.\n",
            "[I 2025-03-08 05:27:34,967] Trial 28 finished with value: 0.7518069003136506 and parameters: {'C': 0.0923862321047567, 'kernel': 'linear'}. Best is trial 16 with value: 0.8472657848084004.\n",
            "[I 2025-03-08 05:31:59,522] Trial 29 finished with value: 0.6858039001772808 and parameters: {'C': 0.20086207068356884, 'kernel': 'rbf'}. Best is trial 16 with value: 0.8472657848084004.\n",
            "\u001b[31m2025/03/08 05:37:24 WARNING mlflow.models.model: Model logged without a signature and input example. Please set `input_example` parameter when logging the model to auto infer the model signature.\u001b[0m\n"
          ]
        },
        {
          "name": "stdout",
          "output_type": "stream",
          "text": [
            "🏃 View run SVM_SMOTE_TFIDF_Trigrams at: http://ec2-100-26-36-125.compute-1.amazonaws.com:5000/#/experiments/622937322449081937/runs/567d995512de478286f02dbd54c6a959\n",
            "🧪 View experiment at: http://ec2-100-26-36-125.compute-1.amazonaws.com:5000/#/experiments/622937322449081937\n"
          ]
        }
      ],
      "source": [
        "# Step 1: (Optional) Remapping - skipped since not strictly needed for SVM\n",
        "\n",
        "# Step 2: Remove rows where the target labels (category) are NaN\n",
        "df = df.dropna(subset=['category'])\n",
        "\n",
        "X = df['clean_comment']\n",
        "y = df['category']\n",
        "\n",
        "# Step 5: Train-test split\n",
        "X_train, X_test, y_train, y_test = train_test_split(X, y, test_size=0.2, random_state=42, stratify=y)\n",
        "\n",
        "# Step 3: TF-IDF vectorizer setup\n",
        "ngram_range = (1, 3)  # Trigram\n",
        "max_features = 10000  # Set max_features to 1000\n",
        "vectorizer = TfidfVectorizer(ngram_range=ngram_range, max_features=max_features)\n",
        "\n",
        "X_train=vectorizer.fit_transform(X_train)\n",
        "X_test=vectorizer.transform(X_test)\n",
        "\n",
        "# Step 4: Apply SMOTE to handle class imbalance\n",
        "smote = SMOTE(random_state=42)\n",
        "X_train, y_train = smote.fit_resample(X_train, y_train)\n",
        "\n",
        "# Function to log results in MLflow\n",
        "def log_mlflow(model_name, model, X_train, X_test, y_train, y_test):\n",
        "    with mlflow.start_run():\n",
        "        # Log model type\n",
        "        mlflow.set_tag(\"mlflow.runName\", f\"{model_name}_SMOTE_TFIDF_Trigrams\")\n",
        "        mlflow.set_tag(\"experiment_type\", \"algorithm_comparison\")\n",
        "\n",
        "        # Log algorithm name as a parameter\n",
        "        mlflow.log_param(\"algo_name\", model_name)\n",
        "\n",
        "        # Train model\n",
        "        model.fit(X_train, y_train)\n",
        "        y_pred = model.predict(X_test)\n",
        "\n",
        "        # Log accuracy\n",
        "        accuracy = accuracy_score(y_test, y_pred)\n",
        "        mlflow.log_metric(\"accuracy\", accuracy)\n",
        "\n",
        "        # Log classification report\n",
        "        classification_rep = classification_report(y_test, y_pred, output_dict=True)\n",
        "        for label, metrics in classification_rep.items():\n",
        "            if isinstance(metrics, dict):\n",
        "                for metric, value in metrics.items():\n",
        "                    mlflow.log_metric(f\"{label}_{metric}\", value)\n",
        "\n",
        "        # Log the model\n",
        "        mlflow.sklearn.log_model(model, f\"{model_name}_model\")\n",
        "\n",
        "\n",
        "# Step 6: Optuna objective function for SVM\n",
        "def objective_svm(trial):\n",
        "    C = trial.suggest_float('C', 1e-4, 10.0, log=True)\n",
        "    kernel = trial.suggest_categorical('kernel', ['linear', 'rbf', 'poly'])\n",
        "\n",
        "    model = SVC(C=C, kernel=kernel, random_state=42)\n",
        "    return accuracy_score(y_test, model.fit(X_train, y_train).predict(X_test))\n",
        "\n",
        "\n",
        "# Step 7: Run Optuna for SVM, log the best model only\n",
        "def run_optuna_experiment():\n",
        "    study = optuna.create_study(direction=\"maximize\")\n",
        "    study.optimize(objective_svm, n_trials=30)\n",
        "\n",
        "    # Get the best parameters and log only the best model\n",
        "    best_params = study.best_params\n",
        "    best_model = SVC(C=best_params['C'], kernel=best_params['kernel'], random_state=42)\n",
        "\n",
        "    # Log the best model with MLflow, passing the algo_name as \"SVM\"\n",
        "    log_mlflow(\"SVM\", best_model, X_train, X_test, y_train, y_test)\n",
        "\n",
        "# Run the experiment for SVM\n",
        "run_optuna_experiment()\n"
      ]
    },
    {
      "cell_type": "code",
      "execution_count": 7,
      "metadata": {
        "id": "faqA4VhuGADY"
      },
      "outputs": [],
      "source": []
    }
  ],
  "metadata": {
    "colab": {
      "provenance": []
    },
    "kernelspec": {
      "display_name": "Python 3",
      "name": "python3"
    },
    "language_info": {
      "name": "python"
    }
  },
  "nbformat": 4,
  "nbformat_minor": 0
}
