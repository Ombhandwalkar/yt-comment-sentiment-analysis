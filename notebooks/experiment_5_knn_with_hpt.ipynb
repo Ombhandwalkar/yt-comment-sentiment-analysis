{
  "cells": [
    {
      "cell_type": "code",
      "execution_count": 1,
      "metadata": {
        "colab": {
          "base_uri": "https://localhost:8080/"
        },
        "id": "LEEAU-CgHRLX",
        "outputId": "b016fa1d-3ad2-4d78-8cda-45d6e91ddcfb"
      },
      "outputs": [
        {
          "name": "stdout",
          "output_type": "stream",
          "text": [
            "\u001b[31mERROR: pip's dependency resolver does not currently take into account all the packages that are installed. This behaviour is the source of the following dependency conflicts.\n",
            "sphinx 8.1.3 requires docutils<0.22,>=0.20, but you have docutils 0.16 which is incompatible.\u001b[0m\u001b[31m\n",
            "\u001b[0mSuccessfully installed Mako-1.3.9 alembic-1.15.1 awscli-1.38.8 boto3-1.37.8 botocore-1.37.8 colorama-0.4.6 colorlog-6.9.0 databricks-sdk-0.45.0 docker-7.1.0 docutils-0.16 graphene-3.4.3 graphql-core-3.2.6 graphql-relay-3.2.0 gunicorn-23.0.0 jmespath-1.0.1 mlflow-2.20.3 mlflow-skinny-2.20.3 optuna-4.2.1 rsa-4.7.2 s3transfer-0.11.4\n"
          ]
        }
      ],
      "source": [
        "!pip install mlflow boto3 awscli optuna imbalanced-learn"
      ]
    },
    {
      "cell_type": "code",
      "execution_count": null,
      "metadata": {
        "colab": {
          "base_uri": "https://localhost:8080/"
        },
        "id": "jvMzerdFHbPw",
        "outputId": "9f13cae9-c9fe-4066-e3e6-2985dc1421c2"
      },
      "outputs": [],
      "source": [
        "!aws configure"
      ]
    },
    {
      "cell_type": "code",
      "execution_count": 3,
      "metadata": {
        "id": "rKuNpawGHgli"
      },
      "outputs": [],
      "source": [
        "import mlflow\n",
        "# Step 2: Set up the MLflow tracking server\n",
        "mlflow.set_tracking_uri(\"http://ec2-100-26-36-125.compute-1.amazonaws.com:5000/\")"
      ]
    },
    {
      "cell_type": "code",
      "execution_count": 4,
      "metadata": {
        "colab": {
          "base_uri": "https://localhost:8080/"
        },
        "id": "8G7SfXsVHw-v",
        "outputId": "39bf5a46-85f7-47e1-f1d6-75991e7b9ba3"
      },
      "outputs": [
        {
          "data": {
            "text/plain": [
              "<Experiment: artifact_location='s3://om-mlflow-bucket/622937322449081937', creation_time=1741368134336, experiment_id='622937322449081937', last_update_time=1741368134336, lifecycle_stage='active', name='E ML Algos with HP Tuning', tags={}>"
            ]
          },
          "execution_count": 4,
          "metadata": {},
          "output_type": "execute_result"
        }
      ],
      "source": [
        "# Set or create an experiment\n",
        "mlflow.set_experiment(\"E ML Algos with HP Tuning\")"
      ]
    },
    {
      "cell_type": "code",
      "execution_count": 5,
      "metadata": {
        "id": "10TcHgr8Hzie"
      },
      "outputs": [],
      "source": [
        "import pandas as pd\n",
        "from sklearn.feature_extraction.text import TfidfVectorizer\n",
        "from sklearn.model_selection import train_test_split\n",
        "from sklearn.neighbors import KNeighborsClassifier\n",
        "from sklearn.metrics import accuracy_score, classification_report\n",
        "from imblearn.over_sampling import SMOTE\n",
        "import mlflow\n",
        "import mlflow.sklearn\n",
        "import optuna\n"
      ]
    },
    {
      "cell_type": "code",
      "execution_count": 6,
      "metadata": {
        "id": "Onwdr5GxH1Dq"
      },
      "outputs": [],
      "source": [
        "df = pd.read_csv('/content/reddit_processed.csv').dropna()\n"
      ]
    },
    {
      "cell_type": "code",
      "execution_count": 10,
      "metadata": {
        "colab": {
          "base_uri": "https://localhost:8080/"
        },
        "id": "frmQkE0OH4_h",
        "outputId": "a43d4921-d447-42c2-cc2c-c08b70079509"
      },
      "outputs": [
        {
          "name": "stderr",
          "output_type": "stream",
          "text": [
            "[I 2025-03-07 17:38:47,710] A new study created in memory with name: no-name-1d709512-a54a-4059-a371-eafb4043d2a2\n",
            "[I 2025-03-07 17:38:57,787] Trial 0 finished with value: 0.38742670121369155 and parameters: {'n_neighbors': 14, 'p': 2}. Best is trial 0 with value: 0.38742670121369155.\n",
            "[I 2025-03-07 17:39:32,458] Trial 1 finished with value: 0.3609709532251466 and parameters: {'n_neighbors': 11, 'p': 1}. Best is trial 0 with value: 0.38742670121369155.\n",
            "[I 2025-03-07 17:39:42,457] Trial 2 finished with value: 0.4062457384426565 and parameters: {'n_neighbors': 9, 'p': 2}. Best is trial 2 with value: 0.4062457384426565.\n",
            "[I 2025-03-07 17:39:52,447] Trial 3 finished with value: 0.3991545070230465 and parameters: {'n_neighbors': 12, 'p': 2}. Best is trial 2 with value: 0.4062457384426565.\n",
            "[I 2025-03-07 17:40:02,643] Trial 4 finished with value: 0.38742670121369155 and parameters: {'n_neighbors': 14, 'p': 2}. Best is trial 2 with value: 0.4062457384426565.\n",
            "[I 2025-03-07 17:40:38,555] Trial 5 finished with value: 0.34869766807582164 and parameters: {'n_neighbors': 30, 'p': 1}. Best is trial 2 with value: 0.4062457384426565.\n",
            "[I 2025-03-07 17:40:48,778] Trial 6 finished with value: 0.3555161598254466 and parameters: {'n_neighbors': 24, 'p': 2}. Best is trial 2 with value: 0.4062457384426565.\n",
            "[I 2025-03-07 17:41:23,525] Trial 7 finished with value: 0.3556525296604391 and parameters: {'n_neighbors': 17, 'p': 1}. Best is trial 2 with value: 0.4062457384426565.\n",
            "[I 2025-03-07 17:41:32,953] Trial 8 finished with value: 0.35510705032046913 and parameters: {'n_neighbors': 27, 'p': 2}. Best is trial 2 with value: 0.4062457384426565.\n",
            "[I 2025-03-07 17:41:42,890] Trial 9 finished with value: 0.38742670121369155 and parameters: {'n_neighbors': 14, 'p': 2}. Best is trial 2 with value: 0.4062457384426565.\n",
            "[I 2025-03-07 17:42:17,618] Trial 10 finished with value: 0.390835947088504 and parameters: {'n_neighbors': 3, 'p': 1}. Best is trial 2 with value: 0.4062457384426565.\n",
            "[I 2025-03-07 17:42:27,937] Trial 11 finished with value: 0.42847402154643394 and parameters: {'n_neighbors': 6, 'p': 2}. Best is trial 11 with value: 0.42847402154643394.\n",
            "[I 2025-03-07 17:42:37,498] Trial 12 finished with value: 0.4374744306559389 and parameters: {'n_neighbors': 4, 'p': 2}. Best is trial 12 with value: 0.4374744306559389.\n",
            "[I 2025-03-07 17:42:47,295] Trial 13 finished with value: 0.4351561434610664 and parameters: {'n_neighbors': 3, 'p': 2}. Best is trial 12 with value: 0.4374744306559389.\n",
            "[I 2025-03-07 17:42:57,402] Trial 14 finished with value: 0.4351561434610664 and parameters: {'n_neighbors': 3, 'p': 2}. Best is trial 12 with value: 0.4374744306559389.\n",
            "[I 2025-03-07 17:43:07,399] Trial 15 finished with value: 0.3645165689349516 and parameters: {'n_neighbors': 20, 'p': 2}. Best is trial 12 with value: 0.4374744306559389.\n",
            "[I 2025-03-07 17:43:16,971] Trial 16 finished with value: 0.41415518887222147 and parameters: {'n_neighbors': 7, 'p': 2}. Best is trial 12 with value: 0.4374744306559389.\n",
            "[I 2025-03-07 17:43:26,786] Trial 17 finished with value: 0.42847402154643394 and parameters: {'n_neighbors': 6, 'p': 2}. Best is trial 12 with value: 0.4374744306559389.\n",
            "[I 2025-03-07 17:44:01,513] Trial 18 finished with value: 0.390835947088504 and parameters: {'n_neighbors': 3, 'p': 1}. Best is trial 12 with value: 0.4374744306559389.\n",
            "[I 2025-03-07 17:44:11,687] Trial 19 finished with value: 0.41933724260193644 and parameters: {'n_neighbors': 8, 'p': 2}. Best is trial 12 with value: 0.4374744306559389.\n",
            "[I 2025-03-07 17:44:22,425] Trial 20 finished with value: 0.3585162961952816 and parameters: {'n_neighbors': 21, 'p': 2}. Best is trial 12 with value: 0.4374744306559389.\n",
            "[I 2025-03-07 17:44:31,995] Trial 21 finished with value: 0.42342833765171145 and parameters: {'n_neighbors': 5, 'p': 2}. Best is trial 12 with value: 0.4374744306559389.\n",
            "[I 2025-03-07 17:44:42,055] Trial 22 finished with value: 0.4351561434610664 and parameters: {'n_neighbors': 3, 'p': 2}. Best is trial 12 with value: 0.4374744306559389.\n",
            "[I 2025-03-07 17:44:52,037] Trial 23 finished with value: 0.40788217646256647 and parameters: {'n_neighbors': 10, 'p': 2}. Best is trial 12 with value: 0.4374744306559389.\n",
            "[I 2025-03-07 17:45:02,074] Trial 24 finished with value: 0.42342833765171145 and parameters: {'n_neighbors': 5, 'p': 2}. Best is trial 12 with value: 0.4374744306559389.\n",
            "[I 2025-03-07 17:45:11,203] Trial 25 finished with value: 0.4351561434610664 and parameters: {'n_neighbors': 3, 'p': 2}. Best is trial 12 with value: 0.4374744306559389.\n",
            "[I 2025-03-07 17:45:45,883] Trial 26 finished with value: 0.36915314332469656 and parameters: {'n_neighbors': 7, 'p': 1}. Best is trial 12 with value: 0.4374744306559389.\n",
            "[I 2025-03-07 17:45:55,820] Trial 27 finished with value: 0.42342833765171145 and parameters: {'n_neighbors': 5, 'p': 2}. Best is trial 12 with value: 0.4374744306559389.\n",
            "[I 2025-03-07 17:46:05,872] Trial 28 finished with value: 0.4062457384426565 and parameters: {'n_neighbors': 9, 'p': 2}. Best is trial 12 with value: 0.4374744306559389.\n",
            "[I 2025-03-07 17:46:15,242] Trial 29 finished with value: 0.3991545070230465 and parameters: {'n_neighbors': 12, 'p': 2}. Best is trial 12 with value: 0.4374744306559389.\n",
            "\u001b[31m2025/03/07 17:46:35 WARNING mlflow.models.model: Model logged without a signature and input example. Please set `input_example` parameter when logging the model to auto infer the model signature.\u001b[0m\n"
          ]
        },
        {
          "name": "stdout",
          "output_type": "stream",
          "text": [
            "🏃 View run KNN_SMOTE_TFIDF_Trigrams at: http://ec2-100-26-36-125.compute-1.amazonaws.com:5000/#/experiments/622937322449081937/runs/ef8a543bd05547c59f48e7a960c627f2\n",
            "🧪 View experiment at: http://ec2-100-26-36-125.compute-1.amazonaws.com:5000/#/experiments/622937322449081937\n"
          ]
        }
      ],
      "source": [
        "# Step 1: (Optional) Remapping - skipped since not strictly needed for KNN\n",
        "\n",
        "# Step 2: Remove rows where the target labels (category) are NaN\n",
        "df = df.dropna(subset=['category'])\n",
        "\n",
        "X = df['clean_comment']\n",
        "y = df['category']\n",
        "\n",
        "# Step 5: Train-test split\n",
        "X_train, X_test, y_train, y_test = train_test_split(X, y, test_size=0.2, random_state=42, stratify=y)\n",
        "\n",
        "# Step 3: TF-IDF vectorizer setup\n",
        "ngram_range = (1, 3)  # Trigram\n",
        "max_features = 10000 # Set max_features to 1000\n",
        "vectorizer = TfidfVectorizer(ngram_range=ngram_range, max_features=max_features)\n",
        "X_train=vectorizer.fit_transform(X_train)\n",
        "X_test=vectorizer.transform(X_test)\n",
        "\n",
        "# Step 4: Apply SMOTE to handle class imbalance\n",
        "smote = SMOTE(random_state=42)\n",
        "X_train, y_train = smote.fit_resample(X_train, y_train)\n",
        "\n",
        "# Function to log results in MLflow\n",
        "def log_mlflow(model_name, model, X_train, X_test, y_train, y_test):\n",
        "    with mlflow.start_run():\n",
        "        # Log model type\n",
        "        mlflow.set_tag(\"mlflow.runName\", f\"{model_name}_SMOTE_TFIDF_Trigrams\")\n",
        "        mlflow.set_tag(\"experiment_type\", \"algorithm_comparison\")\n",
        "\n",
        "        # Log algorithm name as a parameter\n",
        "        mlflow.log_param(\"algo_name\", model_name)\n",
        "\n",
        "        # Train model\n",
        "        model.fit(X_train, y_train)\n",
        "        y_pred = model.predict(X_test)\n",
        "\n",
        "        # Log accuracy\n",
        "        accuracy = accuracy_score(y_test, y_pred)\n",
        "        mlflow.log_metric(\"accuracy\", accuracy)\n",
        "\n",
        "        # Log classification report\n",
        "        classification_rep = classification_report(y_test, y_pred, output_dict=True)\n",
        "        for label, metrics in classification_rep.items():\n",
        "            if isinstance(metrics, dict):\n",
        "                for metric, value in metrics.items():\n",
        "                    mlflow.log_metric(f\"{label}_{metric}\", value)\n",
        "\n",
        "        # Log the model\n",
        "        mlflow.sklearn.log_model(model, f\"{model_name}_model\")\n",
        "\n",
        "\n",
        "# Step 6: Optuna objective function for KNN\n",
        "def objective_knn(trial):\n",
        "    n_neighbors = trial.suggest_int('n_neighbors', 3, 30)  # Tuning the number of neighbors\n",
        "    p = trial.suggest_categorical('p', [1, 2])  # Tuning the distance metric (1 for Manhattan, 2 for Euclidean)\n",
        "\n",
        "    # KNeighborsClassifier setup\n",
        "    model = KNeighborsClassifier(n_neighbors=n_neighbors, p=p)\n",
        "    return accuracy_score(y_test, model.fit(X_train, y_train).predict(X_test))\n",
        "\n",
        "\n",
        "# Step 7: Run Optuna for KNN, log the best model only\n",
        "def run_optuna_experiment():\n",
        "    study = optuna.create_study(direction=\"maximize\")\n",
        "    study.optimize(objective_knn, n_trials=30)\n",
        "\n",
        "    # Get the best parameters and log only the best model\n",
        "    best_params = study.best_params\n",
        "    best_model = KNeighborsClassifier(n_neighbors=best_params['n_neighbors'], p=best_params['p'])\n",
        "\n",
        "    # Log the best model with MLflow, passing the algo_name as \"KNN\"\n",
        "    log_mlflow(\"KNN\", best_model, X_train, X_test, y_train, y_test)\n",
        "\n",
        "# Run the experiment for KNN\n",
        "run_optuna_experiment()\n"
      ]
    },
    {
      "cell_type": "code",
      "execution_count": null,
      "metadata": {
        "id": "gzui3ujWH7tu"
      },
      "outputs": [],
      "source": []
    }
  ],
  "metadata": {
    "colab": {
      "provenance": []
    },
    "kernelspec": {
      "display_name": "Python 3",
      "name": "python3"
    },
    "language_info": {
      "name": "python"
    }
  },
  "nbformat": 4,
  "nbformat_minor": 0
}
